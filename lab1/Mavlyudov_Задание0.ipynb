{
 "cells": [
  {
   "cell_type": "markdown",
   "metadata": {
    "id": "1KuKdoUrvCW7"
   },
   "source": [
    "## **Задача 1. Приветствие**"
   ]
  },
  {
   "cell_type": "markdown",
   "metadata": {
    "id": "imPVogXGvT_u"
   },
   "source": [
    "На вход программе подается строка текста – имя человека.\n",
    "\n",
    " Напишите программу, которая выводит на экран приветствие в виде слова «Привет, » (без кавычек), после которого должна стоять запятая и пробел, а затем введенное имя.\n",
    "\n",
    " Для считывания текста используйте команду input(), для печати текста на экране используйте команду print().\n",
    "\n",
    "**Пример:**\n",
    "\n",
    " ввод данных: Екатерина\n",
    "\n",
    " вывод данных: Привет, Екатерина"
   ]
  },
  {
   "cell_type": "code",
   "execution_count": 1,
   "metadata": {
    "id": "NqyhA4iJ3Vtt"
   },
   "outputs": [
    {
     "name": "stdout",
     "output_type": "stream",
     "text": [
      "Привет,  Марат\n"
     ]
    }
   ],
   "source": [
    "print(\"Привет, \", input(\"Введите имя: \"))"
   ]
  },
  {
   "cell_type": "markdown",
   "metadata": {
    "id": "8qENl25N1Y0x"
   },
   "source": [
    "## **Задача 2. Право доступа**"
   ]
  },
  {
   "cell_type": "markdown",
   "metadata": {
    "id": "qqqrqrZ34q7y"
   },
   "source": [
    "На вход программе подаётся целое число — возраст пользователя. Программа должна вывести текст:\n",
    "*   «Доступ разрешен», если возраст не менее 18;\n",
    "*   «Доступ ограничен», если возраст от 14 до 17 лет (включительно);\n",
    "*   «Доступ запрещен», если возраст менее 14 лет.\n",
    "\n",
    "Для считывания возраста используйте команду input(), не забыв преобразовать тип данных в числовой с помощью int(); для печати текста на экране используйте команду print(). Используйте условные операторы if-elif-else.\n",
    "\n",
    "**Пример:**\n",
    "\n",
    " ввод данных: 17\n",
    "\n",
    " вывод данных: Доступ ограничен"
   ]
  },
  {
   "cell_type": "code",
   "execution_count": 3,
   "metadata": {
    "id": "rpLC73vi3WeU"
   },
   "outputs": [
    {
     "name": "stdout",
     "output_type": "stream",
     "text": [
      "Доступ разрешен\n"
     ]
    }
   ],
   "source": [
    "age = int(input(\"Введите возраст: \"))\n",
    "if age >= 18:\n",
    "    print(\"Доступ разрешен\" )\n",
    "elif 14 <= age <= 17:\n",
    "    print(\"Доступ ограничен\")\n",
    "else:\n",
    "    print(\"Доступ запрещен\")"
   ]
  },
  {
   "cell_type": "markdown",
   "metadata": {
    "id": "37D1iZ-46T9f"
   },
   "source": [
    "## **Задача 3. Повторение**"
   ]
  },
  {
   "cell_type": "markdown",
   "metadata": {
    "id": "kXRx-gtU6p2n"
   },
   "source": [
    "На вход программе подаётся:\n",
    "*   на первой строке - текстовое предложение;\n",
    "*   на второй строке - количество повторений (целое число).\n",
    "\n",
    "Напишите программу, которая выводит предложение нужное количество раз (каждое предложение должно начинаться с новой строки).\n",
    "\n",
    "Для считывания текста и числа повторений используйте команду input(), не забыв преобразовать тип данных в числовой с помощью int() для количества повторений; для печати текста на экране используйте команду print(). Используйте цикл for.\n",
    "\n",
    "**Пример:**\n",
    "\n",
    " ввод данных: \n",
    "*   Век живи - век учись!\n",
    "*   3\n",
    "\n",
    "вывод данных: \n",
    " \n",
    "Век живи - век учись!\n",
    "\n",
    "Век живи - век учись!\n",
    "\n",
    "Век живи - век учись!"
   ]
  },
  {
   "cell_type": "code",
   "execution_count": 5,
   "metadata": {
    "id": "I3MQolV33Xb9"
   },
   "outputs": [
    {
     "name": "stdout",
     "output_type": "stream",
     "text": [
      "sad\n",
      "sad\n",
      "sad\n"
     ]
    }
   ],
   "source": [
    "text = input(\"Введите текст: \")\n",
    "n = int(input(\"Введите кол-во повторений: \"))\n",
    "for i in range(0, n):\n",
    "    print(text)"
   ]
  },
  {
   "cell_type": "markdown",
   "metadata": {
    "id": "hHKa8Y2j81kp"
   },
   "source": [
    "## **Задача 4. Повторение 2**"
   ]
  },
  {
   "cell_type": "markdown",
   "metadata": {
    "id": "vd60Ri5h-2d9"
   },
   "source": [
    "Реализуйте задачу 3 через цикл while."
   ]
  },
  {
   "cell_type": "code",
   "execution_count": 6,
   "metadata": {
    "id": "xN1sosvL3X70"
   },
   "outputs": [
    {
     "name": "stdout",
     "output_type": "stream",
     "text": [
      "sad\n",
      "sad\n",
      "sad\n"
     ]
    }
   ],
   "source": [
    "text = input(\"Введите текст: \")\n",
    "n = int(input(\"Введите кол-во повторений: \"))\n",
    "current = 0\n",
    "while current < n:\n",
    "    print(text)\n",
    "    current += 1"
   ]
  },
  {
   "cell_type": "markdown",
   "metadata": {
    "id": "wFjCdbAQBCSg"
   },
   "source": [
    "## **Задача 5. ФИО**"
   ]
  },
  {
   "cell_type": "markdown",
   "metadata": {
    "id": "pkaL_HadBH3z"
   },
   "source": [
    "Напишите функцию print_fio(name, surname, patronymic), которая принимает три параметра:\n",
    "*   name – имя человека;\n",
    "*   surname – фамилия человека;\n",
    "*   patronymic – отчество человека;\n",
    "\n",
    "а затем выводит на печать ФИО человека (на одной строке, только первые буквы в порядке surname-name-patronymic).\n",
    "\n",
    "Добавьте комментарий перед каждым этапом:\n",
    "\n",
    "*   #объявление функции\n",
    "> def print_fio(name, surname, patronymic)\n",
    "*   #ввод данных\n",
    "> name, surname, patronymic =\n",
    "*   #вызов функции\n",
    "> print_fio(name, surname, patronymic)\n",
    "\n",
    "Для считывания текста используйте команду input(); для печати текста на экране используйте команду print(), добавив параметр sep='' для печати на одной строке. Используйте def для объявления функции.\n",
    "\n",
    "**Пример:**\n",
    "\n",
    " ввод данных: \n",
    "*   Иван\n",
    "*   Сидоров\n",
    "*   Петрович\n",
    "\n",
    "вывод данных: СИП"
   ]
  },
  {
   "cell_type": "code",
   "execution_count": 1,
   "metadata": {
    "id": "OsNHQU6K3Y3E"
   },
   "outputs": [
    {
     "name": "stdout",
     "output_type": "stream",
     "text": [
      "ММИ\n"
     ]
    }
   ],
   "source": [
    "#Объявление функции\n",
    "def print_fio(name, surname, patronymic):\n",
    "    print(name[0].upper() + surname[0].upper() + patronymic[0].upper(), sep=\"\")\n",
    "\n",
    "#Ввод данных\n",
    "name = input(\"Введите имя: \")\n",
    "surname = input(\"Введите фамилию: \")\n",
    "patronymic = input(\"Введите отчество: \")\n",
    "\n",
    "#Вызов функции\n",
    "print_fio(name, surname, patronymic)"
   ]
  },
  {
   "cell_type": "markdown",
   "metadata": {
    "id": "cCeC21NMFM_w"
   },
   "source": [
    "## **Задача 6. Первая таблица**"
   ]
  },
  {
   "cell_type": "markdown",
   "metadata": {
    "id": "BFyYI5dtFUmf"
   },
   "source": [
    "Импортируйте библиотеку pandas с именем pd. Скопируйте словарь, у которого в качестве ключей - столбцы таблицы, а в качестве значений в списках - данные таблицы:\n",
    "> data = {'col 1': ['Я', 'Python', 'Буду'], 'col 2': ['люблю', 'мой', 'стараться'], 'col 3': ['анализ', 'лучший', 'хорошо'], 'col 4': ['данных', 'друг', 'учиться']}\n",
    "\n",
    "Создайте таблицу, скопировав следующий код:\n",
    "> df = pd.DataFrame(data)\n",
    "\n",
    "где df - имя таблицы, pd.DataFrame() - конструктор таблицы, data - словарь.\n",
    "\n",
    "Выведите таблицу через print() либо просто ее вызовом без print().\n",
    "\n",
    "\n"
   ]
  },
  {
   "cell_type": "code",
   "execution_count": 1,
   "metadata": {
    "id": "NcORHQCE3ZSU"
   },
   "outputs": [
    {
     "name": "stdout",
     "output_type": "stream",
     "text": [
      "    col 1      col 2   col 3    col 4\n",
      "0       Я      люблю  анализ   данных\n",
      "1  Python        мой  лучший     друг\n",
      "2    Буду  стараться  хорошо  учиться\n"
     ]
    },
    {
     "name": "stderr",
     "output_type": "stream",
     "text": [
      "C:\\Users\\mvmar.DESKTOP-EEJ81FR\\AppData\\Local\\Temp\\ipykernel_4792\\1355094309.py:1: DeprecationWarning: \n",
      "Pyarrow will become a required dependency of pandas in the next major release of pandas (pandas 3.0),\n",
      "(to allow more performant data types, such as the Arrow string type, and better interoperability with other libraries)\n",
      "but was not found to be installed on your system.\n",
      "If this would cause problems for you,\n",
      "please provide us feedback at https://github.com/pandas-dev/pandas/issues/54466\n",
      "        \n",
      "  import pandas as pd\n"
     ]
    }
   ],
   "source": [
    "import pandas as pd\n",
    "data = {'col 1': ['Я', 'Python', 'Буду'], 'col 2': ['люблю', 'мой', 'стараться'], 'col 3': ['анализ', 'лучший', 'хорошо'], 'col 4': ['данных', 'друг', 'учиться']}\n",
    "df = pd.DataFrame(data)\n",
    "print(df)\n",
    "\n",
    "\n"
   ]
  }
 ],
 "metadata": {
  "colab": {
   "collapsed_sections": [],
   "name": "ФИО_Задание по премодулю",
   "provenance": []
  },
  "kernelspec": {
   "display_name": "Python 3 (ipykernel)",
   "language": "python",
   "name": "python3"
  },
  "language_info": {
   "codemirror_mode": {
    "name": "ipython",
    "version": 3
   },
   "file_extension": ".py",
   "mimetype": "text/x-python",
   "name": "python",
   "nbconvert_exporter": "python",
   "pygments_lexer": "ipython3",
   "version": "3.12.1"
  }
 },
 "nbformat": 4,
 "nbformat_minor": 1
}
